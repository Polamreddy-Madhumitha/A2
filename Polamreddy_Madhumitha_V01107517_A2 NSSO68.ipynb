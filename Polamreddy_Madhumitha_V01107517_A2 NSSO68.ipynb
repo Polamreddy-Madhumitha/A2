{
 "cells": [
  {
   "cell_type": "code",
   "execution_count": 1,
   "id": "b562de60",
   "metadata": {},
   "outputs": [],
   "source": [
    "import pandas as pd\n",
    "import numpy as np\n",
    "import statsmodels.api as sm\n",
    "from statsmodels.stats.outliers_influence import variance_inflation_factor"
   ]
  },
  {
   "cell_type": "code",
   "execution_count": 2,
   "id": "0cb9dabd",
   "metadata": {},
   "outputs": [],
   "source": [
    "import os\n",
    "os.chdir('C:\\\\Users\\\\aravi\\\\Downloads')"
   ]
  },
  {
   "cell_type": "code",
   "execution_count": 3,
   "id": "60c136cc",
   "metadata": {},
   "outputs": [
    {
     "name": "stderr",
     "output_type": "stream",
     "text": [
      "C:\\Users\\aravi\\AppData\\Local\\Temp\\ipykernel_26660\\4031375496.py:1: DtypeWarning: Columns (1) have mixed types. Specify dtype option on import or set low_memory=False.\n",
      "  data = pd.read_csv(\"NSSO68.csv\")\n"
     ]
    }
   ],
   "source": [
    "data = pd.read_csv(\"NSSO68.csv\")"
   ]
  },
  {
   "cell_type": "code",
   "execution_count": 4,
   "id": "7cc94c60",
   "metadata": {},
   "outputs": [
    {
     "data": {
      "text/plain": [
       "array(['GUJ', 'ORI', 'CHTSD', 'MP', 'JRKD', 'WB', 'AP', 'MH', 'D&D',\n",
       "       'D&NH', 'MIZ', 'TRPR', 'MANPR', 'ASSM', 'MEG', 'NAG', 'A&N',\n",
       "       'PNDCRY', 'TN', 'GOA', 'KA', 'KE', 'LKSDP', 'SKM', 'Bhr', 'UP',\n",
       "       'RJ', 'ARP', 'DL', 'HR', 'Pun', 'HP', 'UT', 'Chandr', 'J$K'],\n",
       "      dtype=object)"
      ]
     },
     "execution_count": 4,
     "metadata": {},
     "output_type": "execute_result"
    }
   ],
   "source": [
    "data['state_1'].unique()"
   ]
  },
  {
   "cell_type": "code",
   "execution_count": 5,
   "id": "a4fc8bcd",
   "metadata": {},
   "outputs": [
    {
     "name": "stdout",
     "output_type": "stream",
     "text": [
      "       foodtotal_q  MPCE_MRP  MPCE_URP  Age  Meals_At_Home  \\\n",
      "20869    25.150588   2221.27   2432.50   75           90.0   \n",
      "20870    28.400400   2546.21   2305.25   54           80.0   \n",
      "20871    24.595815   2027.38   1767.00   60           90.0   \n",
      "20872    22.189005   1301.23   1118.25   45           90.0   \n",
      "20873    19.280350   1493.25   1385.40   48           90.0   \n",
      "...            ...       ...       ...  ...            ...   \n",
      "45688    31.555560   1350.23   1193.00   72           90.0   \n",
      "45689    24.783517   2801.60   2524.00   52           90.0   \n",
      "45690    19.079244    938.68    753.75   42           90.0   \n",
      "45691    22.075537   1237.01   1195.50   53           90.0   \n",
      "45692    17.122327   1242.63   1687.33   45           87.0   \n",
      "\n",
      "       Possess_ration_card  Education  No_of_Meals_per_day  \n",
      "20869                  1.0        1.0                  3.0  \n",
      "20870                  1.0        8.0                  3.0  \n",
      "20871                  1.0        5.0                  3.0  \n",
      "20872                  1.0        8.0                  3.0  \n",
      "20873                  1.0        8.0                  3.0  \n",
      "...                    ...        ...                  ...  \n",
      "45688                  1.0        1.0                  3.0  \n",
      "45689                  1.0        6.0                  3.0  \n",
      "45690                  1.0        5.0                  3.0  \n",
      "45691                  1.0        5.0                  3.0  \n",
      "45692                  1.0        5.0                  3.0  \n",
      "\n",
      "[6647 rows x 8 columns]\n"
     ]
    }
   ],
   "source": [
    "#Subsetting the data\n",
    "subset_data = data[data['state_1'] == 'TN'][['foodtotal_q', 'MPCE_MRP', 'MPCE_URP', 'Age', 'Meals_At_Home', 'Possess_ration_card', 'Education', 'No_of_Meals_per_day']]\n",
    "print(subset_data)"
   ]
  },
  {
   "cell_type": "code",
   "execution_count": 6,
   "id": "e05c961c",
   "metadata": {},
   "outputs": [
    {
     "name": "stdout",
     "output_type": "stream",
     "text": [
      "0\n",
      "0\n",
      "0\n",
      "0\n",
      "7\n"
     ]
    }
   ],
   "source": [
    "#Checking for missing values\n",
    "print(subset_data['MPCE_MRP'].isna().sum())\n",
    "print(subset_data['MPCE_URP'].isna().sum())\n",
    "print(subset_data['Age'].isna().sum())\n",
    "print(subset_data['Possess_ration_card'].isna().sum())\n",
    "print(data['Education'].isna().sum())"
   ]
  },
  {
   "cell_type": "code",
   "execution_count": 7,
   "id": "39f6459f",
   "metadata": {},
   "outputs": [],
   "source": [
    "#Creating a function to impute th emissing values with the mean of the variable\n",
    "def impute_with_mean(data, columns):\n",
    "    for column in columns:\n",
    "        data[column].fillna(data[column].mean(), inplace=True)\n",
    "    return data"
   ]
  },
  {
   "cell_type": "code",
   "execution_count": 8,
   "id": "f86c302a",
   "metadata": {},
   "outputs": [],
   "source": [
    "#Imputiong the columns\n",
    "columns_to_impute = ['Education', 'MPCE_MRP', 'MPCE_URP', 'Age', 'Meals_At_Home', 'Possess_ration_card', 'foodtotal_q']"
   ]
  },
  {
   "cell_type": "code",
   "execution_count": 9,
   "id": "a24942a4",
   "metadata": {},
   "outputs": [],
   "source": [
    "subset_data = impute_with_mean(subset_data, columns_to_impute)"
   ]
  },
  {
   "cell_type": "code",
   "execution_count": 10,
   "id": "13f47a58",
   "metadata": {},
   "outputs": [
    {
     "name": "stdout",
     "output_type": "stream",
     "text": [
      "foodtotal_q            0\n",
      "MPCE_MRP               0\n",
      "MPCE_URP               0\n",
      "Age                    0\n",
      "Meals_At_Home          0\n",
      "Possess_ration_card    0\n",
      "Education              0\n",
      "No_of_Meals_per_day    0\n",
      "dtype: int64\n"
     ]
    }
   ],
   "source": [
    "print(subset_data.isna().sum()) "
   ]
  },
  {
   "cell_type": "code",
   "execution_count": 11,
   "id": "c23b35d8",
   "metadata": {},
   "outputs": [],
   "source": [
    "#Fitting the regression model\n",
    "X = subset_data[['MPCE_MRP', 'MPCE_URP', 'Age', 'Meals_At_Home', 'Possess_ration_card', 'Education']]\n",
    "X = sm.add_constant(X)  # Adds a constant term to the predictor\n",
    "y = subset_data['foodtotal_q']\n"
   ]
  },
  {
   "cell_type": "code",
   "execution_count": 12,
   "id": "53dc6fda",
   "metadata": {},
   "outputs": [],
   "source": [
    "model = sm.OLS(y, X).fit()"
   ]
  },
  {
   "cell_type": "code",
   "execution_count": 13,
   "id": "cfb699f3",
   "metadata": {},
   "outputs": [
    {
     "name": "stdout",
     "output_type": "stream",
     "text": [
      "                            OLS Regression Results                            \n",
      "==============================================================================\n",
      "Dep. Variable:            foodtotal_q   R-squared:                       0.263\n",
      "Model:                            OLS   Adj. R-squared:                  0.262\n",
      "Method:                 Least Squares   F-statistic:                     394.2\n",
      "Date:                Sun, 23 Jun 2024   Prob (F-statistic):               0.00\n",
      "Time:                        21:36:18   Log-Likelihood:                -22259.\n",
      "No. Observations:                6647   AIC:                         4.453e+04\n",
      "Df Residuals:                    6640   BIC:                         4.458e+04\n",
      "Df Model:                           6                                         \n",
      "Covariance Type:            nonrobust                                         \n",
      "=======================================================================================\n",
      "                          coef    std err          t      P>|t|      [0.025      0.975]\n",
      "---------------------------------------------------------------------------------------\n",
      "const                   7.1171      0.879      8.096      0.000       5.394       8.840\n",
      "MPCE_MRP                0.0013   5.86e-05     21.412      0.000       0.001       0.001\n",
      "MPCE_URP                0.0003   4.07e-05      6.439      0.000       0.000       0.000\n",
      "Age                     0.1103      0.007     15.912      0.000       0.097       0.124\n",
      "Meals_At_Home           0.1249      0.007     18.006      0.000       0.111       0.138\n",
      "Possess_ration_card    -5.4671      0.306    -17.878      0.000      -6.067      -4.868\n",
      "Education               0.1561      0.027      5.687      0.000       0.102       0.210\n",
      "==============================================================================\n",
      "Omnibus:                     2602.150   Durbin-Watson:                   1.631\n",
      "Prob(Omnibus):                  0.000   Jarque-Bera (JB):            95075.020\n",
      "Skew:                           1.201   Prob(JB):                         0.00\n",
      "Kurtosis:                      21.372   Cond. No.                     4.57e+04\n",
      "==============================================================================\n",
      "\n",
      "Notes:\n",
      "[1] Standard Errors assume that the covariance matrix of the errors is correctly specified.\n",
      "[2] The condition number is large, 4.57e+04. This might indicate that there are\n",
      "strong multicollinearity or other numerical problems.\n"
     ]
    }
   ],
   "source": [
    "#Printinf the regression results\n",
    "print(model.summary())"
   ]
  },
  {
   "cell_type": "code",
   "execution_count": 14,
   "id": "f852d1d6",
   "metadata": {},
   "outputs": [],
   "source": [
    "#Checking for multicollinearity using Inflator Factor (VIF)\n",
    "vif_data = pd.DataFrame()\n",
    "vif_data['feature'] = X.columns\n",
    "vif_data['VIF'] = [variance_inflation_factor(X.values, i) for i in range(X.shape[1])]\n"
   ]
  },
  {
   "cell_type": "code",
   "execution_count": 15,
   "id": "e39dd8a7",
   "metadata": {},
   "outputs": [
    {
     "name": "stdout",
     "output_type": "stream",
     "text": [
      "               feature         VIF\n",
      "0                const  108.170338\n",
      "1             MPCE_MRP    1.730943\n",
      "2             MPCE_URP    1.562439\n",
      "3                  Age    1.222880\n",
      "4        Meals_At_Home    1.127673\n",
      "5  Possess_ration_card    1.195742\n",
      "6            Education    1.287640\n"
     ]
    }
   ],
   "source": [
    "print(vif_data)"
   ]
  },
  {
   "cell_type": "code",
   "execution_count": 16,
   "id": "f37e26fd",
   "metadata": {},
   "outputs": [],
   "source": [
    "#Extracting the coefficients from the model\n",
    "coefficients = model.params"
   ]
  },
  {
   "cell_type": "code",
   "execution_count": 17,
   "id": "1e11b84d",
   "metadata": {},
   "outputs": [
    {
     "name": "stdout",
     "output_type": "stream",
     "text": [
      "y = 7.12 + 0.001256*x1 + 0.000262*x2 + 0.110306*x3 + 0.124882*x4 + -5.467140*x5 + 0.156120*x6\n"
     ]
    }
   ],
   "source": [
    "#Constructing the equation\n",
    "equation = f\"y = {coefficients[0]:.2f}\"\n",
    "for i in range(1, len(coefficients)):\n",
    "    equation += f\" + {coefficients[i]:.6f}*x{i}\"\n",
    "print(equation)\n"
   ]
  },
  {
   "cell_type": "code",
   "execution_count": null,
   "id": "c12576f5",
   "metadata": {},
   "outputs": [],
   "source": []
  }
 ],
 "metadata": {
  "kernelspec": {
   "display_name": "Python 3 (ipykernel)",
   "language": "python",
   "name": "python3"
  },
  "language_info": {
   "codemirror_mode": {
    "name": "ipython",
    "version": 3
   },
   "file_extension": ".py",
   "mimetype": "text/x-python",
   "name": "python",
   "nbconvert_exporter": "python",
   "pygments_lexer": "ipython3",
   "version": "3.11.5"
  }
 },
 "nbformat": 4,
 "nbformat_minor": 5
}
